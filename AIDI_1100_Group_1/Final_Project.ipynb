{
 "cells": [
  {
   "cell_type": "code",
   "execution_count": 1,
   "id": "58526b51",
   "metadata": {},
   "outputs": [
    {
     "data": {
      "application/javascript": [
       "IPython.OutputArea.auto_scroll_threshold = 9999;\n"
      ],
      "text/plain": [
       "<IPython.core.display.Javascript object>"
      ]
     },
     "metadata": {},
     "output_type": "display_data"
    }
   ],
   "source": [
    "%%javascript\n",
    "IPython.OutputArea.auto_scroll_threshold = 9999;"
   ]
  },
  {
   "cell_type": "code",
   "execution_count": 2,
   "id": "d09a2ce2",
   "metadata": {},
   "outputs": [],
   "source": [
    "#class contains news information\n",
    "class NewsInfomation:\n",
    "    title=descripton=\"\""
   ]
  },
  {
   "cell_type": "code",
   "execution_count": 3,
   "id": "6f525447",
   "metadata": {},
   "outputs": [],
   "source": [
    "#class that is for general functions\n",
    "import re\n",
    "\n",
    "class Utils:\n",
    "    \n",
    "    def get_stock_symbols(self,news_list):\n",
    "\n",
    "        stock_symbols = []\n",
    "\n",
    "        for news in news_list:\n",
    "            #fetched symbol from title\n",
    "            symbol = self.find_symbol(news.title)\n",
    "            if(symbol is not None and symbol not in stock_symbols):\n",
    "                stock_symbols.append(symbol)\n",
    "             \n",
    "            #fetched symbol from descriptio\n",
    "            symbol = self.find_symbol(news.description)\n",
    "            if(symbol is not None and symbol not in stock_symbols):\n",
    "                stock_symbols.append(symbol)\n",
    "\n",
    "        return stock_symbols\n",
    "                        \n",
    "    \n",
    "    def find_symbol(self, text):\n",
    "        regex_output = re.findall(r'\\([A-Z]*:\\s*[A-Z]*\\)', text)\n",
    "        if(len(regex_output)>0):\n",
    "            exchange_stock_names = regex_output[0].replace(\"(\",\"\").replace(\")\",\"\").split(\":\")\n",
    "            print(exchange_stock_names)\n",
    "            if(len(exchange_stock_names)>1):\n",
    "                return exchange_stock_names[1].strip()"
   ]
  },
  {
   "cell_type": "code",
   "execution_count": 4,
   "id": "24c0db60",
   "metadata": {
    "scrolled": true
   },
   "outputs": [],
   "source": [
    "#class is resposible for html parsing\n",
    "from bs4 import BeautifulSoup\n",
    "import requests\n",
    "\n",
    "\n",
    "class NewsParser:\n",
    "        \n",
    "\n",
    "\n",
    "    def get_news(self,url):\n",
    "    \n",
    "        response = requests.get(url)\n",
    "        print(response)\n",
    "        \n",
    "        soup = BeautifulSoup(response.text, \"html.parser\")\n",
    "        news_html_list = soup.find_all(class_=\"newsreleaseconsolidatelink display-outline\")\n",
    "                \n",
    "        news_list = []\n",
    "        count= 1\n",
    "        for rows in news_html_list:\n",
    "            \n",
    "            news = NewsInfomation()\n",
    "            \n",
    "            #get description from node\n",
    "            description = self.get_description(rows)\n",
    "            if(description is not None):\n",
    "                news.description =  description.get_text()\n",
    "\n",
    "            #get title from node        \n",
    "            title_with_time = self.get_title_from_root(rows)\n",
    "            if(title_with_time is not None):\n",
    "                news.title = title_with_time.get_text()\n",
    "                \n",
    "                if(title_with_time.small is not None):\n",
    "                    time = title_with_time.small.get_text()\n",
    "                    \n",
    "                #remove time from title strings    \n",
    "                if(news.title.strip() != \"\" and time.strip() != \"\"):\n",
    "                    news.title = news.title.replace(time, '') \n",
    "  \n",
    "            news_list.append(news)\n",
    "            count += 1\n",
    "        return news_list\n",
    "    \n",
    "    def get_title_from_root(self,news_root):\n",
    "        \n",
    "        title = None\n",
    "        \n",
    "        if(news_root.find(class_=\"col-sm-8 col-lg-9 pull-left card\")is not None):\n",
    "            title= news_root.find(class_=\"col-sm-8 col-lg-9 pull-left card\").h3     \n",
    "            \n",
    "        elif(news_root.find(class_=\"no-top-margin remove-outline\")is not None):\n",
    "            title= news_root.find(class_=\"no-top-margin remove-outline\")     \n",
    "        \n",
    "        return title\n",
    "\n",
    "    \n",
    "    def get_description(self,news_root):\n",
    "        \n",
    "        description = None\n",
    "    \n",
    "        result = news_root.find_all(lambda tag: tag.name == 'p' and \n",
    "                                  tag.get('class') == ['remove-outline'])        \n",
    "        if(len(result)>0):\n",
    "            description = result[0]\n",
    "\n",
    "        return description"
   ]
  },
  {
   "cell_type": "code",
   "execution_count": 5,
   "id": "78fece02",
   "metadata": {},
   "outputs": [],
   "source": [
    "# this class select the first 4 stocks & downloads the stocks data using yfinance\n",
    "import pandas as pd\n",
    "import yfinance as yf\n",
    "from datetime import date\n",
    "from dateutil.relativedelta import relativedelta\n",
    "import matplotlib.pyplot as plt\n",
    "%matplotlib notebook\n",
    "import mplfinance as mpf\n",
    "\n",
    "class StockInformation:\n",
    "    def __init__(self,stock_symbols):\n",
    "        self.stock_symbols = stock_symbols\n",
    "        \n",
    "    def getStockInfo(self):\n",
    "            \n",
    "        selected_stocks = self.selectStocks()\n",
    "\n",
    "        print(selected_stocks)\n",
    "\n",
    "        start_date = date.today() + relativedelta(months=-6)\n",
    "        end_date = date.today()\n",
    "\n",
    "        # create empty dataframe\n",
    "        stocks_data = pd.DataFrame()\n",
    "\n",
    "        # iterate over each symbol\n",
    "        for symbol in selected_stocks:  \n",
    "\n",
    "            try:\n",
    "                # download the stock price \n",
    "                stock_data = yf.download(symbol,start=start_date, end=end_date)\n",
    "                \n",
    "                # or we can do by following\n",
    "                #stock_data = yf.download(symbol, durartion,  period = \"6mo\")\n",
    "                \n",
    "                # append the individual stock prices \n",
    "                if len(stock_data) == 0:\n",
    "                    None\n",
    "                else:\n",
    "                    stock_data['Name']=symbol\n",
    "                    stocks_data = pd.concat([stocks_data,stock_data])\n",
    "\n",
    "            except Exception:\n",
    "                None\n",
    "        return stocks_data\n",
    "    \n",
    "    def selectStocks(self):\n",
    "        \n",
    "        #select first 4 stocks\n",
    "        selected_stocks=[]\n",
    "        if(len(self.stock_symbols)<4):\n",
    "            selected_stocks = self.stock_symbols\n",
    "        else:\n",
    "            selected_stocks = self.stock_symbols[:4]\n",
    "        return selected_stocks"
   ]
  },
  {
   "cell_type": "markdown",
   "id": "b98628bc",
   "metadata": {},
   "source": [
    "### For ploting graph"
   ]
  },
  {
   "cell_type": "code",
   "execution_count": 6,
   "id": "276def1e",
   "metadata": {},
   "outputs": [],
   "source": [
    "#class that will plot graphs for selected stocks based on daily closing price  \n",
    "class GraphUtils:\n",
    "    \n",
    "    def draw_graphs(self,selected_stocks,stocks_data):\n",
    "\n",
    "        stock_li = []\n",
    "        labels = []\n",
    "        # iterate over each symbol\n",
    "        for symbol in selected_stocks:\n",
    "            stock_data = stocks_data.loc[stocks_data['Name'] == symbol]\n",
    "            if(stock_data is not None):\n",
    "                stock_li.append(stock_data)\n",
    "                labels.append(symbol)\n",
    "        \n",
    "        # ploting candlestick graph with volume for the trending stocks\n",
    "        count = 0\n",
    "        for stock in stock_li:\n",
    "            mpf.plot(stock, figratio=(20,15),\n",
    "                    type='candle',\n",
    "                    mav=(20), volume=True,\n",
    "                    title = labels[count],\n",
    "                    tight_layout=True,\n",
    "                    style='classic')\n",
    "            count += 1\n",
    "\n"
   ]
  },
  {
   "cell_type": "code",
   "execution_count": 7,
   "id": "cc8546fe",
   "metadata": {
    "scrolled": true
   },
   "outputs": [
    {
     "name": "stdout",
     "output_type": "stream",
     "text": [
      "<Response [200]>\n",
      "News Size  100\n",
      "['NYSE', ' TFC']\n",
      "['NYSE', 'MTB']\n",
      "['NASDAQ', ' IREN']\n",
      "['NYSE', ' RCL']\n",
      "['NYSE', ' RCL']\n",
      "['BMV', ' CHDRAUIB']\n",
      "['NYSE', ' BALY']\n",
      "['NYSE', ' EVA']\n",
      "['NASDAQ', ' NBEV']\n",
      "['NYSE', ' HRL']\n",
      "['NASDAQ', ' FRSH']\n",
      "['NASDAQ', ' SHBI']\n",
      "['ASX', ' SGM']\n",
      "['NYSE', ' CB']\n",
      "['NASDAQ', 'SPWR']\n",
      "['NYSE', ' HE']\n",
      "['NASDAQ', ' GLMD']\n",
      "['NYSE', ' FMC']\n",
      "['NYSE', ' MTB']\n",
      "['NYSE', ' FMC']\n",
      "['NYSE', ' KWR']\n",
      "['NASDAQ', ' GT']\n",
      "['NYSE', ' NFJ']\n",
      "['NYSE', ' NIE']\n",
      "['NASDAQ', ' HON']\n",
      "['NYSE', ' WBS']\n",
      "['NYSE', ' ATIP']\n",
      "\n",
      "Stock Symbols in News List 24\n"
     ]
    }
   ],
   "source": [
    "import pandas as pd\n",
    "\n",
    "url = \"https://www.prnewswire.com/news-releases/news-releases-list/?page=1&pagesize=100\"\n",
    "parser = NewsParser()\n",
    "news_list = parser.get_news(url)\n",
    "print(\"News Size \",len(news_list))\n",
    "\n",
    "utils = Utils()\n",
    "stock_symbols = utils.get_stock_symbols(news_list)\n",
    "\n",
    "print(\"\\nStock Symbols in News List\", len(stock_symbols))"
   ]
  },
  {
   "cell_type": "code",
   "execution_count": 8,
   "id": "467b9cd6",
   "metadata": {},
   "outputs": [
    {
     "name": "stdout",
     "output_type": "stream",
     "text": [
      "Selected Stocks  ['TFC', 'MTB', 'IREN', 'RCL']\n",
      "['TFC', 'MTB', 'IREN', 'RCL']\n",
      "[*********************100%***********************]  1 of 1 completed\n",
      "[*********************100%***********************]  1 of 1 completed\n",
      "[*********************100%***********************]  1 of 1 completed\n",
      "[*********************100%***********************]  1 of 1 completed\n",
      "                 Open       High        Low      Close  Adj Close    Volume  \\\n",
      "Date                                                                          \n",
      "2022-06-14  46.759998  47.650002  45.750000  46.240002  45.232677   9928400   \n",
      "2022-06-15  46.779999  47.279999  45.990002  46.580002  45.565269   7075800   \n",
      "2022-06-16  45.830002  46.110001  45.130001  45.840000  44.841389   7801200   \n",
      "2022-06-17  46.020000  46.880001  45.720001  46.290001  45.281586  13955600   \n",
      "2022-06-21  47.299999  47.669998  46.630001  47.049999  46.025028   5355100   \n",
      "\n",
      "           Name  \n",
      "Date             \n",
      "2022-06-14  TFC  \n",
      "2022-06-15  TFC  \n",
      "2022-06-16  TFC  \n",
      "2022-06-17  TFC  \n",
      "2022-06-21  TFC  \n"
     ]
    }
   ],
   "source": [
    "#select stocks and get Stock Information from yahoo finance\n",
    "stock_info = StockInformation(stock_symbols)\n",
    "selected_stocks = stock_info.selectStocks()\n",
    "print(\"Selected Stocks \", selected_stocks)\n",
    "\n",
    "stocks_data = stock_info.getStockInfo()\n",
    "print(stocks_data.head())"
   ]
  },
  {
   "cell_type": "code",
   "execution_count": 9,
   "id": "cbd4b8ba",
   "metadata": {},
   "outputs": [
    {
     "ename": "NameError",
     "evalue": "name 'daily' is not defined",
     "output_type": "error",
     "traceback": [
      "\u001b[1;31m---------------------------------------------------------------------------\u001b[0m",
      "\u001b[1;31mNameError\u001b[0m                                 Traceback (most recent call last)",
      "Input \u001b[1;32mIn [9]\u001b[0m, in \u001b[0;36m<cell line: 2>\u001b[1;34m()\u001b[0m\n\u001b[0;32m      1\u001b[0m graph_utils \u001b[38;5;241m=\u001b[39m GraphUtils()\n\u001b[1;32m----> 2\u001b[0m \u001b[43mgraph_utils\u001b[49m\u001b[38;5;241;43m.\u001b[39;49m\u001b[43mdraw_graphs\u001b[49m\u001b[43m(\u001b[49m\u001b[43mselected_stocks\u001b[49m\u001b[43m,\u001b[49m\u001b[43mstocks_data\u001b[49m\u001b[43m)\u001b[49m\n",
      "Input \u001b[1;32mIn [6]\u001b[0m, in \u001b[0;36mGraphUtils.draw_graphs\u001b[1;34m(self, selected_stocks, stocks_data)\u001b[0m\n\u001b[0;32m     16\u001b[0m count \u001b[38;5;241m=\u001b[39m \u001b[38;5;241m0\u001b[39m\n\u001b[0;32m     17\u001b[0m \u001b[38;5;28;01mfor\u001b[39;00m stock \u001b[38;5;129;01min\u001b[39;00m stock_li:\n\u001b[1;32m---> 18\u001b[0m     mpf\u001b[38;5;241m.\u001b[39mplot(\u001b[43mdaily\u001b[49m,labels[count],style\u001b[38;5;241m=\u001b[39m\u001b[38;5;124m'\u001b[39m\u001b[38;5;124myahoo\u001b[39m\u001b[38;5;124m'\u001b[39m)\n\u001b[0;32m     19\u001b[0m     count \u001b[38;5;241m+\u001b[39m\u001b[38;5;241m=\u001b[39m \u001b[38;5;241m1\u001b[39m\n",
      "\u001b[1;31mNameError\u001b[0m: name 'daily' is not defined"
     ]
    }
   ],
   "source": [
    "graph_utils = GraphUtils()\n",
    "graph_utils.draw_graphs(selected_stocks,stocks_data)"
   ]
  },
  {
   "cell_type": "code",
   "execution_count": null,
   "id": "40634114",
   "metadata": {},
   "outputs": [],
   "source": []
  }
 ],
 "metadata": {
  "kernelspec": {
   "display_name": "Python 3 (ipykernel)",
   "language": "python",
   "name": "python3"
  },
  "language_info": {
   "codemirror_mode": {
    "name": "ipython",
    "version": 3
   },
   "file_extension": ".py",
   "mimetype": "text/x-python",
   "name": "python",
   "nbconvert_exporter": "python",
   "pygments_lexer": "ipython3",
   "version": "3.9.12"
  }
 },
 "nbformat": 4,
 "nbformat_minor": 5
}
