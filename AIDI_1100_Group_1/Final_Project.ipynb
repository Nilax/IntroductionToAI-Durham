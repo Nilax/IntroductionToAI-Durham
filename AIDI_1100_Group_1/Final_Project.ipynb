{
 "cells": [
  {
   "cell_type": "code",
   "execution_count": 1,
   "id": "d09a2ce2",
   "metadata": {},
   "outputs": [],
   "source": [
    "#class that contains basic information of employee\n",
    "class NewsInfomation:\n",
    "    title=descripton=\"\""
   ]
  },
  {
   "cell_type": "code",
   "execution_count": 138,
   "id": "24c0db60",
   "metadata": {
    "scrolled": true
   },
   "outputs": [],
   "source": [
    "from bs4 import BeautifulSoup\n",
    "import requests\n",
    "class NewsParser:\n",
    "        \n",
    "\n",
    "\n",
    "    def get_news(self,url):\n",
    "    \n",
    "        response = requests.get(url)\n",
    "        print(response)\n",
    "        \n",
    "        soup = BeautifulSoup(response.text, \"html.parser\")\n",
    "        news_html_list = soup.find_all(class_=\"newsreleaseconsolidatelink display-outline\")\n",
    "                \n",
    "        news_list = []\n",
    "        count= 1\n",
    "        for rows in news_html_list:\n",
    "            \n",
    "            news = NewsInfomation()\n",
    "            \n",
    "            #get description from node\n",
    "            description = self.get_description(rows)\n",
    "            if(description is not None):\n",
    "                news.description =  description.get_text()\n",
    "\n",
    "            #get title from node        \n",
    "            title_with_time = self.get_title_from_root(rows)\n",
    "            if(title_with_time is not None):\n",
    "                news.title = title_with_time.get_text()\n",
    "                \n",
    "                if(title_with_time.small is not None):\n",
    "                    time = title_with_time.small.get_text()\n",
    "                    \n",
    "                #remove time from title strings    \n",
    "                if(news.title.strip() != \"\" and time.strip() != \"\"):\n",
    "                    news.title = news.title.replace(time, '') \n",
    "  \n",
    "            news_list.append(news)\n",
    "            count += 1\n",
    "        return news_list\n",
    "    \n",
    "    def get_title_from_root(self,news_root):\n",
    "        \n",
    "        title = None\n",
    "        \n",
    "        if(news_root.find(class_=\"col-sm-8 col-lg-9 pull-left card\")is not None):\n",
    "            title= news_root.find(class_=\"col-sm-8 col-lg-9 pull-left card\").h3     \n",
    "            \n",
    "        elif(news_root.find(class_=\"no-top-margin remove-outline\")is not None):\n",
    "            title= news_root.find(class_=\"no-top-margin remove-outline\")     \n",
    "        \n",
    "        return title\n",
    "\n",
    "    \n",
    "    def get_description(self,news_root):\n",
    "        \n",
    "        description = None\n",
    "    \n",
    "        result = news_root.find_all(lambda tag: tag.name == 'p' and \n",
    "                                  tag.get('class') == ['remove-outline'])        \n",
    "        if(len(result)>0):\n",
    "            description = result[0]\n",
    "\n",
    "        return description"
   ]
  },
  {
   "cell_type": "code",
   "execution_count": 140,
   "id": "cc8546fe",
   "metadata": {
    "scrolled": true
   },
   "outputs": [
    {
     "name": "stdout",
     "output_type": "stream",
     "text": [
      "<Response [200]>\n"
     ]
    }
   ],
   "source": [
    "import pandas as pd\n",
    "\n",
    "url = \"https://www.prnewswire.com/news-releases/news-releases-list/?page=2&pagesize=10&month=11&day=26&year=2022&hour=00\"\n",
    "parser = NewsParser()\n",
    "news_list = parser.get_news(url)"
   ]
  },
  {
   "cell_type": "code",
   "execution_count": 147,
   "id": "6f525447",
   "metadata": {},
   "outputs": [
    {
     "name": "stdout",
     "output_type": "stream",
     "text": [
      "News Size  10\n",
      "Univar Solutions Inc. (NYSE: UNVR) (\"Univar\" or \"the Company\"), a leading global solutions provider to users of specialty ingredients and chemicals,...\n",
      "['NYSE:']\n",
      "Flote en Cloud Nine este fin de semana con un paseo gratis en la exclusiva cabina para dormir de Emma en la rueda de la fortuna gigante de Viena, que ...\n",
      "[]\n",
      "Flutue na Cloud Nine neste fim de semana com um passeio gratuito na cápsula de sono dedicada da Emma na roda gigante de Vienna, disponível de hoje...\n",
      "[]\n",
      "Liminal BioSciences Inc. (NASDAQ: LMNL) (« Liminal BioSciences » ou la « Société »), a annoncé qu'elle tiendra une assemblée extraordinaire virtuelle ...\n",
      "['NASDAQ:']\n",
      "Die China Petroleum & Chemical Corporation (HKG: 0386, „Sinopec\") hat bekannt gegeben, dass in der ersten Phase des Qijiang-Schiefergasfeldes eine...\n",
      "['HKG:']\n",
      "Die neuen, leistungsstarken COB-LED-Videoleuchten von SmallRig basieren auf dem innovativen „AstralTech\"-Optiksystem, das eine um 35 % höhere...\n",
      "[]\n",
      "Die Feier des 70. Jahrestages der Gründung des autonomen Kreises Jinxiu der Yao findet am 28. November 2022 in Jinxiu statt. Zum vorgesehenen...\n",
      "[]\n",
      "Liminal BioSciences Inc. (NASDAQ: LMNL) (\"Liminal BioSciences\" of het \"bedrijf\"), heeft aangekondigd dat het op 20 januari 2023 een virtuele speciale ...\n",
      "['NASDAQ:']\n",
      "La mission Artemis I de la NASA a décollé le 16 novembre 2022 du complexe de lancement 39B du Centre spatial Kennedy. MeetMo, Felix and Paul Studios...\n",
      "[]\n",
      "L'Expo numérique sur le commerce international entre la Chine et les pays d'Europe centrale et orientale se tiendra sur la plateforme en ligne Fast...\n",
      "[]\n"
     ]
    }
   ],
   "source": [
    "#find symbol and store\n",
    "import re\n",
    "\n",
    "print(\"News Size \",len(news_list))\n",
    "\n",
    "for news in news_list:\n",
    "    print(news.description)\n",
    "    print (re.findall(r'\\b[A-Z]+(?:\\s+[A-Z]+)*\\b:', news.description))"
   ]
  },
  {
   "cell_type": "code",
   "execution_count": null,
   "id": "a6778270",
   "metadata": {},
   "outputs": [],
   "source": []
  }
 ],
 "metadata": {
  "kernelspec": {
   "display_name": "Python 3 (ipykernel)",
   "language": "python",
   "name": "python3"
  },
  "language_info": {
   "codemirror_mode": {
    "name": "ipython",
    "version": 3
   },
   "file_extension": ".py",
   "mimetype": "text/x-python",
   "name": "python",
   "nbconvert_exporter": "python",
   "pygments_lexer": "ipython3",
   "version": "3.9.12"
  }
 },
 "nbformat": 4,
 "nbformat_minor": 5
}
